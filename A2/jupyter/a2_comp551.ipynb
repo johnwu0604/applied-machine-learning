{
 "cells": [
  {
   "cell_type": "code",
   "execution_count": 1,
   "metadata": {},
   "outputs": [
    {
     "name": "stdout",
     "output_type": "stream",
     "text": [
      "Part 1 - Generating Data Using Dataset 1 Mean and Covariances ... \n",
      "\n",
      "Training Data Generated. See: generated_data/DS1_train.csv\n",
      "Testing Data Generated. See: generated_data/DS1_test.csv\n"
     ]
    }
   ],
   "source": [
    "import numpy as np\n",
    "import pandas as pd\n",
    "import matplotlib.pyplot as plt\n",
    "\n",
    "NEG_MEAN_1 = 'data/DS1_m_0.txt'\n",
    "POS_MEAN_1 = 'data/DS1_m_1.txt'\n",
    "COV_1 = 'data/DS1_Cov.txt'\n",
    "TRAIN_DATA = 'generated_data/DS1_train.csv'\n",
    "TEST_DATA = 'generated_data/DS1_test.csv'\n",
    "\n",
    "''' Part 1 '''\n",
    "print('Part 1 - Generating Data Using Dataset 1 Mean and Covariances ... \\n')\n",
    "# Prepare Data\n",
    "neg_mean = pd.read_csv(NEG_MEAN_1, header=None)\n",
    "pos_mean = pd.read_csv(POS_MEAN_1, header=None)\n",
    "cov = pd.read_csv(COV_1, header=None)\n",
    "neg_mean.drop([20], axis=1, inplace=True)\n",
    "pos_mean.drop([20], axis=1, inplace=True)\n",
    "cov.drop([20], axis=1, inplace=True)\n",
    "\n",
    "# Generate samples using gaussian distribution\n",
    "neg_values = np.random.multivariate_normal(neg_mean.as_matrix()[0], cov.values, 2000)\n",
    "pos_values = np.random.multivariate_normal(pos_mean.as_matrix()[0], cov.values, 2000)\n",
    "neg_values = pd.DataFrame(neg_values)\n",
    "pos_values = pd.DataFrame(pos_values)\n",
    "neg_values[20] = 0\n",
    "pos_values[20] = 1\n",
    "\n",
    "# Split data into test and training\n",
    "msk = np.random.rand(len(neg_values)) < 0.7\n",
    "neg_values_train = neg_values[msk]\n",
    "neg_values_test = neg_values[~msk]\n",
    "msk = np.random.rand(len(pos_values)) < 0.7\n",
    "pos_values_train = pos_values[msk]\n",
    "pos_values_test = pos_values[~msk]\n",
    "\n",
    "# Put both classes together in single data set\n",
    "train_data = pd.concat([neg_values_train, pos_values_train], ignore_index=True)\n",
    "test_data = pd.concat([neg_values_test, pos_values_test], ignore_index=True)\n",
    "train_data.to_csv(TRAIN_DATA)\n",
    "test_data.to_csv(TEST_DATA)\n",
    "\n",
    "print('Training Data Generated. See: {}'.format(TRAIN_DATA))\n",
    "print('Testing Data Generated. See: {}'.format(TEST_DATA))"
   ]
  },
  {
   "cell_type": "code",
   "execution_count": null,
   "metadata": {},
   "outputs": [],
   "source": []
  }
 ],
 "metadata": {
  "kernelspec": {
   "display_name": "Python 3",
   "language": "python",
   "name": "python3"
  },
  "language_info": {
   "codemirror_mode": {
    "name": "ipython",
    "version": 3
   },
   "file_extension": ".py",
   "mimetype": "text/x-python",
   "name": "python",
   "nbconvert_exporter": "python",
   "pygments_lexer": "ipython3",
   "version": "3.5.2"
  }
 },
 "nbformat": 4,
 "nbformat_minor": 2
}
